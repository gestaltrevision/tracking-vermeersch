{
 "cells": [
  {
   "cell_type": "code",
   "execution_count": 1,
   "metadata": {},
   "outputs": [],
   "source": [
    "import os \n",
    "import pandas as pd\n",
    "import numpy as np\n",
    "import seaborn as sns"
   ]
  },
  {
   "cell_type": "code",
   "execution_count": 13,
   "metadata": {},
   "outputs": [],
   "source": [
    "targets_path=r\"C:\\Users\\jeuux\\Desktop\\Carrera\\MoAI\\TFM\\AnnotatedData\\Accelerometer_Data\\Datasets\\HAR_Dataset\\targets.npy\"\n",
    "dataset_path=r\"C:\\Users\\jeuux\\Desktop\\Carrera\\MoAI\\TFM\\AnnotatedData\\Accelerometer_Data\\Datasets\\HAR_Dataset\\data.npy\"\n"
   ]
  },
  {
   "cell_type": "code",
   "execution_count": 14,
   "metadata": {},
   "outputs": [],
   "source": [
    "def clean_taxonomy(behaviour):\n",
    "    \n",
    "    if(\"AG Or Ma\" in behaviour):\n",
    "        return \"AG Or Ma\"\n",
    "    \n",
    "    if(\"AG Or Mi\" in behaviour):\n",
    "        if(\"Ag\" in behaviour):\n",
    "            return \"AG Or Mi Ag\"\n",
    "        else:\n",
    "            return behaviour\n",
    "        \n",
    "    if(\"AG Cp\" in behaviour):\n",
    "        if(not(\"Ds\" in behaviour)):\n",
    "            return \"AG Cp Null\"\n",
    "        else:\n",
    "            return behaviour\n",
    "    else: \n",
    "        return behaviour"
   ]
  },
  {
   "cell_type": "code",
   "execution_count": 15,
   "metadata": {},
   "outputs": [],
   "source": [
    "targets=np.load(targets_path,allow_pickle=True)\n",
    "data=np.load(dataset_path,allow_pickle=True)"
   ]
  },
  {
   "cell_type": "code",
   "execution_count": 16,
   "metadata": {},
   "outputs": [],
   "source": [
    "targets=list(map(lambda target: clean_taxonomy(target),targets))\n",
    "targets=np.asarray(targets)"
   ]
  },
  {
   "cell_type": "code",
   "execution_count": 17,
   "metadata": {},
   "outputs": [],
   "source": [
    "from sklearn.model_selection import train_test_split\n",
    "#Train/val/test\n",
    "def split_data(data,targets,test_size):\n",
    "    train_idx,test_idx=train_test_split(range(len(data)),test_size=test_size,random_state=42)\n",
    "    samples_train=data[train_idx]\n",
    "    targets_train=targets[train_idx]\n",
    "\n",
    "    samples_test=data[test_idx]\n",
    "    targets_test=targets[test_idx]\n",
    "    \n",
    "    return samples_train,targets_train,samples_test,targets_test\n",
    "\n",
    "def save_data(folder,data,targets):\n",
    "    np.save(os.path.join(folder,\"data\"),data)\n",
    "    np.save(os.path.join(folder,\"targets\"),targets)"
   ]
  },
  {
   "cell_type": "code",
   "execution_count": 18,
   "metadata": {},
   "outputs": [],
   "source": [
    "samples_train,targets_train,samples_test,targets_test=split_data(data,targets,0.2)\n",
    "samples_train,targets_train,samples_val,targets_val=split_data(samples_train,targets_train,0.1)"
   ]
  },
  {
   "cell_type": "code",
   "execution_count": 19,
   "metadata": {},
   "outputs": [],
   "source": [
    "train_folder=r\"C:\\Users\\jeuux\\Desktop\\Carrera\\MoAI\\TFM\\AnnotatedData\\Accelerometer_Data\\Datasets\\HAR_Dataset\\Train\"\n",
    "test_folder=r\"C:\\Users\\jeuux\\Desktop\\Carrera\\MoAI\\TFM\\AnnotatedData\\Accelerometer_Data\\Datasets\\HAR_Dataset\\Test\"\n",
    "val_folder=r\"C:\\Users\\jeuux\\Desktop\\Carrera\\MoAI\\TFM\\AnnotatedData\\Accelerometer_Data\\Datasets\\HAR_Dataset\\Val\""
   ]
  },
  {
   "cell_type": "code",
   "execution_count": 20,
   "metadata": {},
   "outputs": [],
   "source": [
    "save_data(train_folder,samples_train,targets_train)\n",
    "save_data(test_folder,samples_test,targets_test)\n",
    "save_data(val_folder,samples_val,targets_val)"
   ]
  }
 ],
 "metadata": {
  "kernelspec": {
   "display_name": "Python 3",
   "language": "python",
   "name": "python3"
  },
  "language_info": {
   "codemirror_mode": {
    "name": "ipython",
    "version": 3
   },
   "file_extension": ".py",
   "mimetype": "text/x-python",
   "name": "python",
   "nbconvert_exporter": "python",
   "pygments_lexer": "ipython3",
   "version": "3.7.6"
  }
 },
 "nbformat": 4,
 "nbformat_minor": 4
}
