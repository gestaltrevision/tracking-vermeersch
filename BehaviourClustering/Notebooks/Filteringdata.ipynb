{
 "cells": [
  {
   "cell_type": "code",
   "execution_count": 1,
   "metadata": {},
   "outputs": [],
   "source": [
    "import os \n",
    "import pandas as pd\n",
    "import numpy as np\n",
    "import seaborn as sns"
   ]
  },
  {
   "cell_type": "code",
   "execution_count": null,
   "metadata": {},
   "outputs": [],
   "source": [
    "targets_path=r\"C:\\Users\\jeuux\\Desktop\\Carrera\\MoAI\\TFM\\AnnotatedData\\Accelerometer_Data\\Datasets\\HAR_Dataset\\targets.npy\"\n",
    "dataset_path=r\"C:\\Users\\jeuux\\Desktop\\Carrera\\MoAI\\TFM\\AnnotatedData\\Accelerometer_Data\\Datasets\\HAR_Dataset\\data.npy\"\n"
   ]
  },
  {
   "cell_type": "code",
   "execution_count": null,
   "metadata": {},
   "outputs": [],
   "source": [
    "def clean_taxonomy(behaviour):\n",
    "    \n",
    "    if(\"AG Or Ma\" in behaviour):\n",
    "        return \"AG Or Ma\"\n",
    "    \n",
    "    if(\"AG Or Mi\" in behaviour):\n",
    "        if(\"Ag\" in behaviour):\n",
    "            return \"AG Or Mi Ag\"\n",
    "        else:\n",
    "            return behaviour\n",
    "        \n",
    "    if(\"AG Cp\" in behaviour):\n",
    "        if(not(\"Ds\" in behaviour)):\n",
    "            return \"AG Cp Null\"\n",
    "        else:\n",
    "            return behaviour\n",
    "    else: \n",
    "        return behaviour"
   ]
  },
  {
   "cell_type": "code",
   "execution_count": null,
   "metadata": {},
   "outputs": [],
   "source": [
    "targets=np.load(targets_path,allow_pickle=True)\n",
    "data=np.load(dataset_path,allow_pickle=True)"
   ]
  },
  {
   "cell_type": "code",
   "execution_count": 11,
   "metadata": {},
   "outputs": [
    {
     "data": {
      "text/plain": [
       "'Null'"
      ]
     },
     "execution_count": 11,
     "metadata": {},
     "output_type": "execute_result"
    }
   ],
   "source": [
    "next(target for target in targets if \"Null\" in target)"
   ]
  },
  {
   "cell_type": "code",
   "execution_count": null,
   "metadata": {},
   "outputs": [],
   "source": [
    "targets_df=pd.Series(targets,name=\"targets\")"
   ]
  },
  {
   "cell_type": "code",
   "execution_count": null,
   "metadata": {},
   "outputs": [],
   "source": [
    "targets_df.value_counts()"
   ]
  },
  {
   "cell_type": "code",
   "execution_count": null,
   "metadata": {},
   "outputs": [],
   "source": [
    "targets=list(map(lambda target: clean_taxonomy(target),targets))\n",
    "targets=np.asarray(targets)"
   ]
  },
  {
   "cell_type": "code",
   "execution_count": 12,
   "metadata": {},
   "outputs": [],
   "source": [
    "from sklearn.model_selection import train_test_split\n",
    "#Train/val/test\n",
    "def split_data(data,targets,test_size):\n",
    "    train_idx,test_idx=train_test_split(range(len(data)),test_size=test_size,random_state=42)\n",
    "    samples_train=data[train_idx]\n",
    "    targets_train=targets[train_idx]\n",
    "\n",
    "    samples_test=data[test_idx]\n",
    "    targets_test=targets[test_idx]\n",
    "    \n",
    "    return samples_train,targets_train,samples_test,targets_test\n",
    "\n",
    "def save_data(folder,data,targets):\n",
    "    np.save(os.path.join(folder,\"data\"),data)\n",
    "    np.save(os.path.join(folder,\"targets\"),targets)"
   ]
  },
  {
   "cell_type": "code",
   "execution_count": 13,
   "metadata": {},
   "outputs": [],
   "source": [
    "samples_train,targets_train,samples_test,targets_test=split_data(data,targets,0.2)\n",
    "samples_train,targets_train,samples_val,targets_val=split_data(samples_train,targets_train,0.1)"
   ]
  },
  {
   "cell_type": "code",
   "execution_count": 14,
   "metadata": {},
   "outputs": [],
   "source": [
    "train_folder=r\"C:\\Users\\jeuux\\Desktop\\Carrera\\MoAI\\TFM\\AnnotatedData\\Accelerometer_Data\\Datasets\\HAR_Dataset_raw\\Train\"\n",
    "test_folder=r\"C:\\Users\\jeuux\\Desktop\\Carrera\\MoAI\\TFM\\AnnotatedData\\Accelerometer_Data\\Datasets\\HAR_Dataset_raw\\Test\"\n",
    "val_folder=r\"C:\\Users\\jeuux\\Desktop\\Carrera\\MoAI\\TFM\\AnnotatedData\\Accelerometer_Data\\Datasets\\HAR_Dataset_raw\\Val\""
   ]
  },
  {
   "cell_type": "code",
   "execution_count": 15,
   "metadata": {},
   "outputs": [],
   "source": [
    "save_data(train_folder,samples_train,targets_train)\n",
    "save_data(test_folder,samples_test,targets_test)\n",
    "save_data(val_folder,samples_val,targets_val)"
   ]
  },
  {
   "cell_type": "markdown",
   "metadata": {},
   "source": [
    "# splitting data"
   ]
  },
  {
   "cell_type": "code",
   "execution_count": 2,
   "metadata": {},
   "outputs": [],
   "source": [
    "participants_dir = r\"C:\\Users\\jeuux\\Desktop\\Carrera\\MoAI\\TFM\\AnnotatedData\\FinalDatasets\\Participants\""
   ]
  },
  {
   "cell_type": "code",
   "execution_count": 3,
   "metadata": {},
   "outputs": [],
   "source": [
    "participant_folders = [os.path.join(participants_dir,participant) for participant in os.listdir(participants_dir)]"
   ]
  },
  {
   "cell_type": "code",
   "execution_count": 4,
   "metadata": {},
   "outputs": [],
   "source": [
    "participants_train = participant_folders[:25]\n",
    "participants_val  = participant_folders[25:30]\n",
    "participants_test  = participant_folders[-5:]"
   ]
  },
  {
   "cell_type": "code",
   "execution_count": 25,
   "metadata": {},
   "outputs": [
    {
     "data": {
      "text/plain": [
       "['C:\\\\Users\\\\jeuux\\\\Desktop\\\\Carrera\\\\MoAI\\\\TFM\\\\AnnotatedData\\\\FinalDatasets\\\\Participants\\\\2904d',\n",
       " 'C:\\\\Users\\\\jeuux\\\\Desktop\\\\Carrera\\\\MoAI\\\\TFM\\\\AnnotatedData\\\\FinalDatasets\\\\Participants\\\\3004a',\n",
       " 'C:\\\\Users\\\\jeuux\\\\Desktop\\\\Carrera\\\\MoAI\\\\TFM\\\\AnnotatedData\\\\FinalDatasets\\\\Participants\\\\3004b',\n",
       " 'C:\\\\Users\\\\jeuux\\\\Desktop\\\\Carrera\\\\MoAI\\\\TFM\\\\AnnotatedData\\\\FinalDatasets\\\\Participants\\\\3004c',\n",
       " 'C:\\\\Users\\\\jeuux\\\\Desktop\\\\Carrera\\\\MoAI\\\\TFM\\\\AnnotatedData\\\\FinalDatasets\\\\Participants\\\\3004e']"
      ]
     },
     "execution_count": 25,
     "metadata": {},
     "output_type": "execute_result"
    }
   ],
   "source": [
    "participants_test"
   ]
  },
  {
   "cell_type": "code",
   "execution_count": 9,
   "metadata": {},
   "outputs": [
    {
     "data": {
      "text/plain": [
       "['C:\\\\Users\\\\jeuux\\\\Desktop\\\\Carrera\\\\MoAI\\\\TFM\\\\AnnotatedData\\\\FinalDatasets\\\\Participants\\\\2904d',\n",
       " 'C:\\\\Users\\\\jeuux\\\\Desktop\\\\Carrera\\\\MoAI\\\\TFM\\\\AnnotatedData\\\\FinalDatasets\\\\Participants\\\\3004a',\n",
       " 'C:\\\\Users\\\\jeuux\\\\Desktop\\\\Carrera\\\\MoAI\\\\TFM\\\\AnnotatedData\\\\FinalDatasets\\\\Participants\\\\3004b',\n",
       " 'C:\\\\Users\\\\jeuux\\\\Desktop\\\\Carrera\\\\MoAI\\\\TFM\\\\AnnotatedData\\\\FinalDatasets\\\\Participants\\\\3004c',\n",
       " 'C:\\\\Users\\\\jeuux\\\\Desktop\\\\Carrera\\\\MoAI\\\\TFM\\\\AnnotatedData\\\\FinalDatasets\\\\Participants\\\\3004e']"
      ]
     },
     "execution_count": 9,
     "metadata": {},
     "output_type": "execute_result"
    }
   ],
   "source": [
    "participant_folders[69:]"
   ]
  },
  {
   "cell_type": "code",
   "execution_count": 25,
   "metadata": {},
   "outputs": [],
   "source": [
    "def get_data(data_folders,subset,dataset_dir):\n",
    "    segments =[]\n",
    "    labels = []\n",
    "    for folder in data_folders: \n",
    "        segments_file = os.path.join(folder,\"FullDataset\",\"segments_data.npy\")\n",
    "        labels_file =  os.path.join(folder,\"FullDataset\",\"targets_data.npy\")\n",
    "        segments.append(np.load(segments_file))\n",
    "        labels.append(np.load(labels_file))\n",
    "    segments = np.concatenate(segments)\n",
    "    labels = np.concatenate(labels)\n",
    "    if not(os.path.isdir(os.path.join(dataset_dir,subset))):\n",
    "        os.makedirs(os.path.join(dataset_dir,subset))\n",
    "    np.save(os.path.join(dataset_dir,subset,\"data\"),segments)\n",
    "    np.save(os.path.join(dataset_dir,subset,\"targets\"),labels)"
   ]
  },
  {
   "cell_type": "code",
   "execution_count": 32,
   "metadata": {},
   "outputs": [],
   "source": [
    "dataset_path = r\"C:\\Users\\jeuux\\Desktop\\Carrera\\MoAI\\TFM\\AnnotatedData\\FinalDatasets\\Datasets\\HAR_dataset_v1\""
   ]
  },
  {
   "cell_type": "code",
   "execution_count": 34,
   "metadata": {},
   "outputs": [],
   "source": [
    "folders  = [participants_train,participants_test,participants_val]\n",
    "subsets  =[\"Train\",\"Test\",\"Val\"]\n",
    "for folders,subset in zip(folders,subsets):\n",
    "    get_data(folders,subset,dataset_path)"
   ]
  },
  {
   "cell_type": "code",
   "execution_count": 27,
   "metadata": {},
   "outputs": [],
   "source": [
    "base_dir = r\"C:\\Users\\jeuux\\Desktop\\Carrera\\MoAI\\TFM\\AnnotatedData\\FinalDatasets\\Datasets\\HAR_AL\"\n",
    "for index,(id1,id2) in enumerate(zip(range(30,69,5),range(35,71,5))):\n",
    "    \n",
    "    if(id1==65):\n",
    "        id2 = 68\n",
    "        \n",
    "    dataset_path = os.path.join(base_dir,f\"HAR_dataset_AL_v{index}\")\n",
    "    if not(os.path.isdir(dataset_path)):\n",
    "        os.makedirs(dataset_path)\n",
    "        \n",
    "    participant_list = participant_folders[id1:id2]\n",
    "    get_data(participant_list,\"Train\",dataset_path)\n",
    "    \n",
    "             \n",
    "    "
   ]
  },
  {
   "cell_type": "code",
   "execution_count": 17,
   "metadata": {},
   "outputs": [
    {
     "ename": "SyntaxError",
     "evalue": "invalid syntax (<ipython-input-17-73e258f41880>, line 1)",
     "output_type": "error",
     "traceback": [
      "\u001b[1;36m  File \u001b[1;32m\"<ipython-input-17-73e258f41880>\"\u001b[1;36m, line \u001b[1;32m1\u001b[0m\n\u001b[1;33m    x= (3:4)\u001b[0m\n\u001b[1;37m         ^\u001b[0m\n\u001b[1;31mSyntaxError\u001b[0m\u001b[1;31m:\u001b[0m invalid syntax\n"
     ]
    }
   ],
   "source": []
  },
  {
   "cell_type": "code",
   "execution_count": null,
   "metadata": {},
   "outputs": [],
   "source": [
    "#concat every subtable for each participant\n",
    "participant_folders=[os.path.join(participant_folder,folder) for folder in os.listdir(participant_folder)]\n",
    "\n",
    "for participant_folder in tqdm(participant_folders):  \n",
    "    folder=os.path.join(participant_folder,data_type)\n",
    "    table_arr=[]\n",
    "    for table in os.listdir(folder):\n",
    "        table_arr.append(pd.read_csv(os.path.join(folder,table)))\n",
    "    df=pd.concat(table_arr)\n",
    "    participant=os.path.basename(participant_folder)\n",
    "    df.to_csv(os.path.join(folder,\"{0}_raw_{1}.csv\".format(data_type,participant)),index=False)\n",
    "    print(\"Save table of participant : {}\".format(participant))\n"
   ]
  }
 ],
 "metadata": {
  "kernelspec": {
   "display_name": "Python 3",
   "language": "python",
   "name": "python3"
  },
  "language_info": {
   "codemirror_mode": {
    "name": "ipython",
    "version": 3
   },
   "file_extension": ".py",
   "mimetype": "text/x-python",
   "name": "python",
   "nbconvert_exporter": "python",
   "pygments_lexer": "ipython3",
   "version": "3.7.6"
  }
 },
 "nbformat": 4,
 "nbformat_minor": 4
}
