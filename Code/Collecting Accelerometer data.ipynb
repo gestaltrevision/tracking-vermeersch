{
 "cells": [
  {
   "cell_type": "code",
   "execution_count": 1,
   "metadata": {},
   "outputs": [],
   "source": [
    "import os\n",
    "import json\n",
    "import numpy as np\n",
    "import pandas as pd"
   ]
  },
  {
   "cell_type": "code",
   "execution_count": 2,
   "metadata": {},
   "outputs": [],
   "source": [
    "data_dir=\"C:/Users/jeuux/Desktop/Carrera/MoAI/TFM/Data\"\n",
    "participants=[folder for folder in os.listdir(data_dir) if not(folder==\".vscode\")]\n",
    "#create list with json paths\n",
    "json_list=[os.path.join(data_dir,participant,\"participant.json\") for participant in participants ]"
   ]
  },
  {
   "cell_type": "code",
   "execution_count": null,
   "metadata": {},
   "outputs": [],
   "source": [
    "def get_subject(json_file):\n",
    "    with open(json_file) as f:\n",
    "        participant_info = json.load(f)\n",
    "    return participant_info[\"pa_info\"][\"Name\"]\n",
    "def save_participant_table(table,acc_path,current,count):\n",
    "    #save table\n",
    "    participant_folder=os.path.join(acc_path,current)\n",
    "\n",
    "    if(not(os.path.isdir(participant_folder))):\n",
    "        os.makedirs(participant_folder)\n",
    "\n",
    "    save_path=os.path.join(participant_folder,\"acc_{0}.csv\".format(count))\n",
    "    table.to_csv(save_path,index=False)\n",
    "    print(\"Saved\")"
   ]
  },
  {
   "cell_type": "code",
   "execution_count": null,
   "metadata": {},
   "outputs": [],
   "source": [
    "#for each folder, read \"participant.json\" get participant name\n",
    "names_list=[]\n",
    "for json_file in json_list:\n",
    "     names_list.append(get_subject(json_file))\n",
    "    "
   ]
  },
  {
   "cell_type": "code",
   "execution_count": 3,
   "metadata": {},
   "outputs": [],
   "source": [
    "#Getting Accelerometer Data\n",
    "table_path=\"C:\\\\Users\\\\jeuux\\\\Desktop\\\\Carrera\\\\MoAI\\\\TFM\\\\Vermeersch data\\\\vermeersch Data Export - FULL TO DATE.tsv\"\n",
    "#Extract only columns we need\n",
    "# cols=['Recording timestamp','Participant name','Accelerometer X','Accelerometer Y','Accelerometer Z',\"Gyro X\",\"Gyro Y\", \"Gyro Z\"]\n",
    "# df_chunck=pd.read_csv(table_path,delimiter='\\t',usecols=cols,chunksize=150000)"
   ]
  },
  {
   "cell_type": "code",
   "execution_count": 4,
   "metadata": {},
   "outputs": [],
   "source": [
    "cols=['Gaze point 3D X', 'Gaze point 3D Y', 'Gaze point 3D Z']\n",
    "df_chunck=pd.read_csv(table_path,delimiter='\\t',usecols=cols,chunksize=150000)\n"
   ]
  },
  {
   "cell_type": "markdown",
   "metadata": {},
   "source": [
    "# Getting raw accelerometer tables"
   ]
  },
  {
   "cell_type": "code",
   "execution_count": null,
   "metadata": {},
   "outputs": [],
   "source": [
    "acc_path=\"C:\\\\Users\\\\jeuux\\\\Desktop\\\\Carrera\\\\MoAI\\\\TFM\\\\AnnotatedData\\\\Accelerometer_Data\"\n",
    "#Create tables with acc data of participants we have\n",
    "for i,table in enumerate(df_chunck):\n",
    "    #drop empty rows\n",
    "#     table=table.dropna()\n",
    "    #get participant names in batch\n",
    "    names=table[\"Participant name\"].unique()\n",
    "    \n",
    "    #Only one participant & is in our list\n",
    "    if((len(names)==1)and names[0] in names_list):\n",
    "        current=names[0]#current participant\n",
    "        save_participant_table(table,acc_path,current,i)\n",
    "        \n",
    "    #More than one participant & some in our list\n",
    "    elif((len(names)>1) and any(i in names_list for i in names)):\n",
    "        #case 2\n",
    "        partition={key: table.loc[value] for key, value in table.groupby('Participant name').groups.items()}\n",
    "        for participant in partition.keys():\n",
    "            if participant in names_list:\n",
    "                save_participant_table(partition[participant],acc_path,participant,i)\n",
    "        \n",
    "        \n",
    "        \n"
   ]
  },
  {
   "cell_type": "markdown",
   "metadata": {},
   "source": [
    "# Create def tables (by concatenation)"
   ]
  },
  {
   "cell_type": "code",
   "execution_count": null,
   "metadata": {},
   "outputs": [],
   "source": [
    "acc_path=\"C:\\\\Users\\\\jeuux\\\\Desktop\\\\Carrera\\\\MoAI\\\\TFM\\\\AnnotatedData\\\\Accelerometer_Data\"\n",
    "#concat\n",
    "acc_folders=[folder for folder in os.listdir(acc_path)]\n",
    "\n",
    "for folder in acc_folders:\n",
    "    tables=[pd.read_csv(os.path.join(acc_path,folder,file),index_col=None) for file in os.listdir(os.path.join(acc_path,folder))] \n",
    "    full_table=pd.concat(tables)\n",
    "    full_table=full_table.drop_duplicates()\n",
    "    full_table=full_table.sort_values(\"Recording timestamp\")\n",
    "    full_table.to_csv(os.path.join(acc_path,folder,\"acc_data{0}.csv\".format(folder)),index=False)"
   ]
  },
  {
   "cell_type": "code",
   "execution_count": null,
   "metadata": {},
   "outputs": [],
   "source": []
  }
 ],
 "metadata": {
  "kernelspec": {
   "display_name": "Python 3",
   "language": "python",
   "name": "python3"
  },
  "language_info": {
   "codemirror_mode": {
    "name": "ipython",
    "version": 3
   },
   "file_extension": ".py",
   "mimetype": "text/x-python",
   "name": "python",
   "nbconvert_exporter": "python",
   "pygments_lexer": "ipython3",
   "version": "3.7.2"
  }
 },
 "nbformat": 4,
 "nbformat_minor": 4
}
