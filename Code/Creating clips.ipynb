{
 "cells": [
  {
   "cell_type": "code",
   "execution_count": 1,
   "metadata": {},
   "outputs": [],
   "source": [
    "from tw_classification import *"
   ]
  },
  {
   "cell_type": "code",
   "execution_count": 18,
   "metadata": {},
   "outputs": [],
   "source": [
    "classes=['Y3A6090', 'Y3A6092', 'Y3A6096', 'Y3A6098', 'Y3A6101']\n",
    "video_name=\"2vre55a\"\n",
    "video_path=\"C:/Users/jeuux/Desktop/Carrera/MoAI/TFM/Data/2vre55a/segments/1/fullstream.mp4\""
   ]
  },
  {
   "cell_type": "code",
   "execution_count": 3,
   "metadata": {},
   "outputs": [],
   "source": [
    "#save results\n",
    "results_folder=\"C:/Users/jeuux/Desktop/Carrera/MoAI/TFM/AnnotatedData/Sl_Annotations\"\n",
    "table_path=os.path.join(results_folder,\"{0}_classification.csv\".format(video_name))\n",
    "df=pd.read_csv(table_path)"
   ]
  },
  {
   "cell_type": "code",
   "execution_count": 14,
   "metadata": {},
   "outputs": [],
   "source": [
    "def get_clips(prev_end,art_class):\n",
    "    class_list=df[\"class\"].values.tolist()\n",
    "    time_list=df[\"time\"].values.tolist()\n",
    "    try:\n",
    "        \n",
    "        first_index=next(i for i in range(prev_end,len(class_list)) if class_list[i]==art_class)\n",
    "    except StopIteration:\n",
    "        return len(df)+1, np.nan,np.nan\n",
    "    count=0\n",
    "    print(first_index)\n",
    "    for i in range(first_index,len(class_list)):\n",
    "        if(count<10):\n",
    "            if(class_list[i]==art_class):\n",
    "                count=0\n",
    "            else:\n",
    "                count=count+1\n",
    "        else:\n",
    "            end_index=i-count\n",
    "            break\n",
    "            \n",
    "    first_time=time_list[first_index]\n",
    "    last_time=time_list[end_index]\n",
    "    print(first_time,last_time)\n",
    "    return end_index,first_time,last_time\n",
    "\n"
   ]
  },
  {
   "cell_type": "code",
   "execution_count": 16,
   "metadata": {},
   "outputs": [
    {
     "name": "stdout",
     "output_type": "stream",
     "text": [
      "198\n",
      "04:21 05:10\n",
      "265\n",
      "05:49 06:33\n",
      "637\n",
      "14:00 14:01\n",
      "694\n",
      "15:15 15:19\n",
      "987\n",
      "21:42 22:16\n",
      "1041\n",
      "22:53 22:58\n"
     ]
    }
   ],
   "source": [
    "prev_end=0\n",
    "art_class=classes[2]\n",
    "ft=[];lt=[]\n",
    "while(prev_end<len(df)):\n",
    "    end,first,last=get_clips(prev_end,art_class)\n",
    "    ft.append(first)\n",
    "    lt.append(last)\n",
    "    prev_end=end\n",
    "ft.pop()\n",
    "lt.pop()\n"
   ]
  },
  {
   "cell_type": "code",
   "execution_count": 19,
   "metadata": {},
   "outputs": [
    {
     "name": "stdout",
     "output_type": "stream",
     "text": [
      "\n",
      "[MoviePy] Running:\n",
      ">>> C:\\Users\\jeuux\\Anaconda2\\envs\\tfm_env\\Library\\bin\\ffmpeg.exe -y -i C:/Users/jeuux/Desktop/Carrera/MoAI/TFM/Data/2vre55a/segments/1/fullstream.mp4 -ss 261.00 -t 49.00 -vcodec copy -acodec copy C:/Users/jeuux/Desktop/Carrera/MoAI/TFM/AnnotatedData/Sl_Annotations\\clipY3A6096_0.mp4\n",
      "... command successful.\n",
      "\n",
      "[MoviePy] Running:\n",
      ">>> C:\\Users\\jeuux\\Anaconda2\\envs\\tfm_env\\Library\\bin\\ffmpeg.exe -y -i C:/Users/jeuux/Desktop/Carrera/MoAI/TFM/Data/2vre55a/segments/1/fullstream.mp4 -ss 349.00 -t 44.00 -vcodec copy -acodec copy C:/Users/jeuux/Desktop/Carrera/MoAI/TFM/AnnotatedData/Sl_Annotations\\clipY3A6096_1.mp4\n",
      "... command successful.\n",
      "\n",
      "[MoviePy] Running:\n",
      ">>> C:\\Users\\jeuux\\Anaconda2\\envs\\tfm_env\\Library\\bin\\ffmpeg.exe -y -i C:/Users/jeuux/Desktop/Carrera/MoAI/TFM/Data/2vre55a/segments/1/fullstream.mp4 -ss 840.00 -t 1.00 -vcodec copy -acodec copy C:/Users/jeuux/Desktop/Carrera/MoAI/TFM/AnnotatedData/Sl_Annotations\\clipY3A6096_2.mp4\n",
      "... command successful.\n",
      "\n",
      "[MoviePy] Running:\n",
      ">>> C:\\Users\\jeuux\\Anaconda2\\envs\\tfm_env\\Library\\bin\\ffmpeg.exe -y -i C:/Users/jeuux/Desktop/Carrera/MoAI/TFM/Data/2vre55a/segments/1/fullstream.mp4 -ss 915.00 -t 4.00 -vcodec copy -acodec copy C:/Users/jeuux/Desktop/Carrera/MoAI/TFM/AnnotatedData/Sl_Annotations\\clipY3A6096_3.mp4\n",
      "... command successful.\n",
      "\n",
      "[MoviePy] Running:\n",
      ">>> C:\\Users\\jeuux\\Anaconda2\\envs\\tfm_env\\Library\\bin\\ffmpeg.exe -y -i C:/Users/jeuux/Desktop/Carrera/MoAI/TFM/Data/2vre55a/segments/1/fullstream.mp4 -ss 1302.00 -t 34.00 -vcodec copy -acodec copy C:/Users/jeuux/Desktop/Carrera/MoAI/TFM/AnnotatedData/Sl_Annotations\\clipY3A6096_4.mp4\n",
      "... command successful.\n",
      "\n",
      "[MoviePy] Running:\n",
      ">>> C:\\Users\\jeuux\\Anaconda2\\envs\\tfm_env\\Library\\bin\\ffmpeg.exe -y -i C:/Users/jeuux/Desktop/Carrera/MoAI/TFM/Data/2vre55a/segments/1/fullstream.mp4 -ss 1373.00 -t 5.00 -vcodec copy -acodec copy C:/Users/jeuux/Desktop/Carrera/MoAI/TFM/AnnotatedData/Sl_Annotations\\clipY3A6096_5.mp4\n",
      "... command successful.\n"
     ]
    },
    {
     "ename": "AttributeError",
     "evalue": "'float' object has no attribute 'split'",
     "output_type": "error",
     "traceback": [
      "\u001b[1;31m---------------------------------------------------------------------------\u001b[0m",
      "\u001b[1;31mAttributeError\u001b[0m                            Traceback (most recent call last)",
      "\u001b[1;32m<ipython-input-19-809ae99238bd>\u001b[0m in \u001b[0;36m<module>\u001b[1;34m()\u001b[0m\n\u001b[0;32m      2\u001b[0m \u001b[1;32mfor\u001b[0m \u001b[0mi\u001b[0m\u001b[1;33m,\u001b[0m\u001b[1;33m(\u001b[0m\u001b[0mfirst\u001b[0m\u001b[1;33m,\u001b[0m\u001b[0mlast\u001b[0m\u001b[1;33m)\u001b[0m \u001b[1;32min\u001b[0m \u001b[0menumerate\u001b[0m\u001b[1;33m(\u001b[0m\u001b[0mzip\u001b[0m\u001b[1;33m(\u001b[0m\u001b[0mft\u001b[0m\u001b[1;33m,\u001b[0m\u001b[0mlt\u001b[0m\u001b[1;33m)\u001b[0m\u001b[1;33m)\u001b[0m\u001b[1;33m:\u001b[0m\u001b[1;33m\u001b[0m\u001b[0m\n\u001b[0;32m      3\u001b[0m     \u001b[0mclip_path\u001b[0m\u001b[1;33m=\u001b[0m\u001b[0mos\u001b[0m\u001b[1;33m.\u001b[0m\u001b[0mpath\u001b[0m\u001b[1;33m.\u001b[0m\u001b[0mjoin\u001b[0m\u001b[1;33m(\u001b[0m\u001b[0mresults_folder\u001b[0m\u001b[1;33m,\u001b[0m\u001b[1;34m\"clip{0}_{1}.mp4\"\u001b[0m\u001b[1;33m.\u001b[0m\u001b[0mformat\u001b[0m\u001b[1;33m(\u001b[0m\u001b[0mart_class\u001b[0m\u001b[1;33m,\u001b[0m\u001b[0mi\u001b[0m\u001b[1;33m)\u001b[0m\u001b[1;33m)\u001b[0m\u001b[1;33m\u001b[0m\u001b[0m\n\u001b[1;32m----> 4\u001b[1;33m     \u001b[0mffmpeg_extract_subclip\u001b[0m\u001b[1;33m(\u001b[0m\u001b[0mvideo_path\u001b[0m\u001b[1;33m,\u001b[0m \u001b[0mtime_to_seconds\u001b[0m\u001b[1;33m(\u001b[0m\u001b[0mfirst\u001b[0m\u001b[1;33m)\u001b[0m\u001b[1;33m,\u001b[0m \u001b[0mtime_to_seconds\u001b[0m\u001b[1;33m(\u001b[0m\u001b[0mlast\u001b[0m\u001b[1;33m)\u001b[0m\u001b[1;33m,\u001b[0m \u001b[0mtargetname\u001b[0m\u001b[1;33m=\u001b[0m\u001b[0mclip_path\u001b[0m\u001b[1;33m)\u001b[0m\u001b[1;33m\u001b[0m\u001b[0m\n\u001b[0m\u001b[0;32m      5\u001b[0m \u001b[1;33m\u001b[0m\u001b[0m\n\u001b[0;32m      6\u001b[0m \u001b[1;33m\u001b[0m\u001b[0m\n",
      "\u001b[1;32m~\\Desktop\\Carrera\\MoAI\\TFM\\tracking-vermeersch\\Code\\tw_classification.py\u001b[0m in \u001b[0;36mtime_to_seconds\u001b[1;34m(strftime)\u001b[0m\n\u001b[0;32m     98\u001b[0m \u001b[1;33m\u001b[0m\u001b[0m\n\u001b[0;32m     99\u001b[0m \u001b[1;32mdef\u001b[0m \u001b[0mtime_to_seconds\u001b[0m\u001b[1;33m(\u001b[0m\u001b[0mstrftime\u001b[0m\u001b[1;33m)\u001b[0m\u001b[1;33m:\u001b[0m\u001b[1;33m\u001b[0m\u001b[0m\n\u001b[1;32m--> 100\u001b[1;33m     \u001b[0mminutes\u001b[0m\u001b[1;33m,\u001b[0m\u001b[0mseconds\u001b[0m\u001b[1;33m=\u001b[0m\u001b[0mstrftime\u001b[0m\u001b[1;33m.\u001b[0m\u001b[0msplit\u001b[0m\u001b[1;33m(\u001b[0m\u001b[1;34m\":\"\u001b[0m\u001b[1;33m)\u001b[0m\u001b[1;33m\u001b[0m\u001b[0m\n\u001b[0m\u001b[0;32m    101\u001b[0m     \u001b[1;32mreturn\u001b[0m \u001b[0mfloat\u001b[0m\u001b[1;33m(\u001b[0m\u001b[0mminutes\u001b[0m\u001b[1;33m)\u001b[0m\u001b[1;33m*\u001b[0m\u001b[1;36m60\u001b[0m \u001b[1;33m+\u001b[0m \u001b[0mfloat\u001b[0m\u001b[1;33m(\u001b[0m\u001b[0mseconds\u001b[0m\u001b[1;33m)\u001b[0m\u001b[1;33m\u001b[0m\u001b[0m\n",
      "\u001b[1;31mAttributeError\u001b[0m: 'float' object has no attribute 'split'"
     ]
    }
   ],
   "source": [
    "from moviepy.video.io.ffmpeg_tools import ffmpeg_extract_subclip\n",
    "for i,(first,last) in enumerate(zip(ft,lt)):\n",
    "    clip_path=os.path.join(results_folder,\"clip{0}_{1}.mp4\".format(art_class,i))\n",
    "    ffmpeg_extract_subclip(video_path, time_to_seconds(first), time_to_seconds(last), targetname=clip_path)\n",
    "\n",
    "    "
   ]
  }
 ],
 "metadata": {
  "kernelspec": {
   "display_name": "Python 3",
   "language": "python",
   "name": "python3"
  },
  "language_info": {
   "codemirror_mode": {
    "name": "ipython",
    "version": 3
   },
   "file_extension": ".py",
   "mimetype": "text/x-python",
   "name": "python",
   "nbconvert_exporter": "python",
   "pygments_lexer": "ipython3",
   "version": "3.5.6"
  }
 },
 "nbformat": 4,
 "nbformat_minor": 4
}
