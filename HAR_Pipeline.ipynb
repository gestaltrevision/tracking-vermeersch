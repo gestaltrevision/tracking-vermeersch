{
  "nbformat": 4,
  "nbformat_minor": 0,
  "metadata": {
    "colab": {
      "name": "HAR Pipeline.ipynb",
      "provenance": [],
      "collapsed_sections": [],
      "toc_visible": true,
      "authorship_tag": "ABX9TyMg0jBO+qibjEMDoh2fW1GX"
    },
    "kernelspec": {
      "name": "python3",
      "display_name": "Python 3"
    },
    "accelerator": "GPU",
    "widgets": {
      "application/vnd.jupyter.widget-state+json": {
        "2f486ce70b7a48edb1ccc6a9b1da29d3": {
          "model_module": "@jupyter-widgets/controls",
          "model_name": "HBoxModel",
          "state": {
            "_view_name": "HBoxView",
            "_dom_classes": [],
            "_model_name": "HBoxModel",
            "_view_module": "@jupyter-widgets/controls",
            "_model_module_version": "1.5.0",
            "_view_count": null,
            "_view_module_version": "1.5.0",
            "box_style": "",
            "layout": "IPY_MODEL_d73087b3f8ad47d7915cbcd86caa434a",
            "_model_module": "@jupyter-widgets/controls",
            "children": [
              "IPY_MODEL_89d3a23e1d564cfd92db9462b6c07fb5",
              "IPY_MODEL_76efa55f51424f8aa83799bc6238bc4e"
            ]
          }
        },
        "d73087b3f8ad47d7915cbcd86caa434a": {
          "model_module": "@jupyter-widgets/base",
          "model_name": "LayoutModel",
          "state": {
            "_view_name": "LayoutView",
            "grid_template_rows": null,
            "right": null,
            "justify_content": null,
            "_view_module": "@jupyter-widgets/base",
            "overflow": null,
            "_model_module_version": "1.2.0",
            "_view_count": null,
            "flex_flow": null,
            "width": null,
            "min_width": null,
            "border": null,
            "align_items": null,
            "bottom": null,
            "_model_module": "@jupyter-widgets/base",
            "top": null,
            "grid_column": null,
            "overflow_y": null,
            "overflow_x": null,
            "grid_auto_flow": null,
            "grid_area": null,
            "grid_template_columns": null,
            "flex": null,
            "_model_name": "LayoutModel",
            "justify_items": null,
            "grid_row": null,
            "max_height": null,
            "align_content": null,
            "visibility": null,
            "align_self": null,
            "height": null,
            "min_height": null,
            "padding": null,
            "grid_auto_rows": null,
            "grid_gap": null,
            "max_width": null,
            "order": null,
            "_view_module_version": "1.2.0",
            "grid_template_areas": null,
            "object_position": null,
            "object_fit": null,
            "grid_auto_columns": null,
            "margin": null,
            "display": null,
            "left": null
          }
        },
        "89d3a23e1d564cfd92db9462b6c07fb5": {
          "model_module": "@jupyter-widgets/controls",
          "model_name": "IntProgressModel",
          "state": {
            "_view_name": "ProgressView",
            "style": "IPY_MODEL_d1084c15ad5f4238b66b3ecbab5d2f2f",
            "_dom_classes": [],
            "description": " 60%",
            "_model_name": "IntProgressModel",
            "bar_style": "danger",
            "max": 100,
            "_view_module": "@jupyter-widgets/controls",
            "_model_module_version": "1.5.0",
            "value": 60,
            "_view_count": null,
            "_view_module_version": "1.5.0",
            "orientation": "horizontal",
            "min": 0,
            "description_tooltip": null,
            "_model_module": "@jupyter-widgets/controls",
            "layout": "IPY_MODEL_f0f14c7245e14292b43334405e517a75"
          }
        },
        "76efa55f51424f8aa83799bc6238bc4e": {
          "model_module": "@jupyter-widgets/controls",
          "model_name": "HTMLModel",
          "state": {
            "_view_name": "HTMLView",
            "style": "IPY_MODEL_6d83cb06bf504da7b2d19373ecd26936",
            "_dom_classes": [],
            "description": "",
            "_model_name": "HTMLModel",
            "placeholder": "​",
            "_view_module": "@jupyter-widgets/controls",
            "_model_module_version": "1.5.0",
            "value": " 60/100 [17:08&lt;11:13, 16.84s/it]",
            "_view_count": null,
            "_view_module_version": "1.5.0",
            "description_tooltip": null,
            "_model_module": "@jupyter-widgets/controls",
            "layout": "IPY_MODEL_f7f293a0519d4eb0a77c0e0a10772f41"
          }
        },
        "d1084c15ad5f4238b66b3ecbab5d2f2f": {
          "model_module": "@jupyter-widgets/controls",
          "model_name": "ProgressStyleModel",
          "state": {
            "_view_name": "StyleView",
            "_model_name": "ProgressStyleModel",
            "description_width": "initial",
            "_view_module": "@jupyter-widgets/base",
            "_model_module_version": "1.5.0",
            "_view_count": null,
            "_view_module_version": "1.2.0",
            "bar_color": null,
            "_model_module": "@jupyter-widgets/controls"
          }
        },
        "f0f14c7245e14292b43334405e517a75": {
          "model_module": "@jupyter-widgets/base",
          "model_name": "LayoutModel",
          "state": {
            "_view_name": "LayoutView",
            "grid_template_rows": null,
            "right": null,
            "justify_content": null,
            "_view_module": "@jupyter-widgets/base",
            "overflow": null,
            "_model_module_version": "1.2.0",
            "_view_count": null,
            "flex_flow": null,
            "width": null,
            "min_width": null,
            "border": null,
            "align_items": null,
            "bottom": null,
            "_model_module": "@jupyter-widgets/base",
            "top": null,
            "grid_column": null,
            "overflow_y": null,
            "overflow_x": null,
            "grid_auto_flow": null,
            "grid_area": null,
            "grid_template_columns": null,
            "flex": null,
            "_model_name": "LayoutModel",
            "justify_items": null,
            "grid_row": null,
            "max_height": null,
            "align_content": null,
            "visibility": null,
            "align_self": null,
            "height": null,
            "min_height": null,
            "padding": null,
            "grid_auto_rows": null,
            "grid_gap": null,
            "max_width": null,
            "order": null,
            "_view_module_version": "1.2.0",
            "grid_template_areas": null,
            "object_position": null,
            "object_fit": null,
            "grid_auto_columns": null,
            "margin": null,
            "display": null,
            "left": null
          }
        },
        "6d83cb06bf504da7b2d19373ecd26936": {
          "model_module": "@jupyter-widgets/controls",
          "model_name": "DescriptionStyleModel",
          "state": {
            "_view_name": "StyleView",
            "_model_name": "DescriptionStyleModel",
            "description_width": "",
            "_view_module": "@jupyter-widgets/base",
            "_model_module_version": "1.5.0",
            "_view_count": null,
            "_view_module_version": "1.2.0",
            "_model_module": "@jupyter-widgets/controls"
          }
        },
        "f7f293a0519d4eb0a77c0e0a10772f41": {
          "model_module": "@jupyter-widgets/base",
          "model_name": "LayoutModel",
          "state": {
            "_view_name": "LayoutView",
            "grid_template_rows": null,
            "right": null,
            "justify_content": null,
            "_view_module": "@jupyter-widgets/base",
            "overflow": null,
            "_model_module_version": "1.2.0",
            "_view_count": null,
            "flex_flow": null,
            "width": null,
            "min_width": null,
            "border": null,
            "align_items": null,
            "bottom": null,
            "_model_module": "@jupyter-widgets/base",
            "top": null,
            "grid_column": null,
            "overflow_y": null,
            "overflow_x": null,
            "grid_auto_flow": null,
            "grid_area": null,
            "grid_template_columns": null,
            "flex": null,
            "_model_name": "LayoutModel",
            "justify_items": null,
            "grid_row": null,
            "max_height": null,
            "align_content": null,
            "visibility": null,
            "align_self": null,
            "height": null,
            "min_height": null,
            "padding": null,
            "grid_auto_rows": null,
            "grid_gap": null,
            "max_width": null,
            "order": null,
            "_view_module_version": "1.2.0",
            "grid_template_areas": null,
            "object_position": null,
            "object_fit": null,
            "grid_auto_columns": null,
            "margin": null,
            "display": null,
            "left": null
          }
        }
      }
    }
  },
  "cells": [
    {
      "cell_type": "code",
      "metadata": {
        "id": "j-1a6TMlXJfI",
        "colab_type": "code",
        "outputId": "0801fc3b-5a9b-403a-aeb9-6a59342f3168",
        "colab": {
          "base_uri": "https://localhost:8080/",
          "height": 121
        }
      },
      "source": [
        "from google.colab import drive\n",
        "drive.mount('/gdrive')"
      ],
      "execution_count": 0,
      "outputs": [
        {
          "output_type": "stream",
          "text": [
            "Go to this URL in a browser: https://accounts.google.com/o/oauth2/auth?client_id=947318989803-6bn6qk8qdgf4n4g3pfee6491hc0brc4i.apps.googleusercontent.com&redirect_uri=urn%3aietf%3awg%3aoauth%3a2.0%3aoob&response_type=code&scope=email%20https%3a%2f%2fwww.googleapis.com%2fauth%2fdocs.test%20https%3a%2f%2fwww.googleapis.com%2fauth%2fdrive%20https%3a%2f%2fwww.googleapis.com%2fauth%2fdrive.photos.readonly%20https%3a%2f%2fwww.googleapis.com%2fauth%2fpeopleapi.readonly\n",
            "\n",
            "Enter your authorization code:\n",
            "··········\n",
            "Mounted at /gdrive\n"
          ],
          "name": "stdout"
        }
      ]
    },
    {
      "cell_type": "code",
      "metadata": {
        "id": "8qd7B7DoWH_c",
        "colab_type": "code",
        "colab": {}
      },
      "source": [
        "import os \n",
        "import pandas as pd\n",
        "import numpy as np\n",
        "import torch\n",
        "import torch.nn as nn\n",
        "import torch.nn.functional as F\n",
        "\n",
        "from torch.utils.data import Dataset,DataLoader\n",
        "from sklearn.model_selection import train_test_split,cross_val_score,cross_validate\n",
        "from BehaviourDatasets import TSDataset\n",
        "import joblib\n",
        "from tqdm.notebook import tqdm\n",
        "from sklearn.preprocessing import OneHotEncoder,LabelEncoder\n",
        "\n",
        "from sklearn.preprocessing import RobustScaler,StandardScaler\n",
        "from torch.utils.tensorboard import SummaryWriter\n",
        "from sklearn.metrics import balanced_accuracy_score,f1_score,precision_score,matthews_corrcoef,confusion_matrix\n",
        "# Load the TensorBoard notebook extension\n",
        "%load_ext tensorboard"
      ],
      "execution_count": 0,
      "outputs": []
    },
    {
      "cell_type": "markdown",
      "metadata": {
        "id": "_lIDV50qpqKT",
        "colab_type": "text"
      },
      "source": [
        "# Hyperparameters"
      ]
    },
    {
      "cell_type": "code",
      "metadata": {
        "id": "TjGoSchjXDz1",
        "colab_type": "code",
        "colab": {}
      },
      "source": [
        "# Device configuration\n",
        "device = torch.device('cuda' if torch.cuda.is_available() else 'cpu')\n",
        "# Hyper-parameters\n",
        "sequence_length = 50\n",
        "n_channels= 9\n",
        "hidden_size = 128\n",
        "batch_size =128\n",
        "num_layers = 2\n",
        "num_classes = 2\n",
        "n_filters=256\n",
        "filter_size=5"
      ],
      "execution_count": 0,
      "outputs": []
    },
    {
      "cell_type": "markdown",
      "metadata": {
        "id": "Z9lxfbYwpwJT",
        "colab_type": "text"
      },
      "source": [
        "# Data Loading"
      ]
    },
    {
      "cell_type": "code",
      "metadata": {
        "id": "auzix162BQM-",
        "colab_type": "code",
        "colab": {}
      },
      "source": [
        "scaler=RobustScaler()\n",
        "encoder=LabelEncoder()\n",
        "folder=\"/gdrive/My Drive/HAR_Dataset\"\n",
        "#creating train and valid datasets\n",
        "train_dataset= TSDataset(folder,scaler,\"Train\",encoder,n_channels)\n",
        "validation_dataset= TSDataset(folder,scaler,\"Val\",encoder,n_channels)\n",
        "\n",
        "train_loader = DataLoader(train_dataset, batch_size=batch_size,shuffle=True)\n",
        "val_loader= DataLoader(validation_dataset, batch_size=batch_size,shuffle=True)\n",
        "data_loaders=[train_loader,val_loader]"
      ],
      "execution_count": 0,
      "outputs": []
    },
    {
      "cell_type": "markdown",
      "metadata": {
        "id": "GmwR_WH1px_n",
        "colab_type": "text"
      },
      "source": [
        "# Model Init"
      ]
    },
    {
      "cell_type": "code",
      "metadata": {
        "id": "ZQZICNRHWSoZ",
        "colab_type": "code",
        "colab": {}
      },
      "source": [
        "from TSResNet import tsresnet_shallow\n",
        "from pytorchtools import prepare_batch_tsresnet\n",
        "#Init Model\n",
        "num_classes=len(train_dataset.classes)\n",
        "model = tsresnet_shallow(**{\"num_classes\":num_classes}).to(device)\n",
        "\n",
        "# Loss and optimizer\n",
        "criterion = nn.CrossEntropyLoss()\n"
      ],
      "execution_count": 0,
      "outputs": []
    },
    {
      "cell_type": "markdown",
      "metadata": {
        "id": "7F7E2UWhp0c8",
        "colab_type": "text"
      },
      "source": [
        "# Training"
      ]
    },
    {
      "cell_type": "code",
      "metadata": {
        "colab_type": "code",
        "id": "n7dB6i5Q4Xld",
        "outputId": "b3e81bb5-fda2-48eb-b037-be99f9238ef0",
        "colab": {
          "base_uri": "https://localhost:8080/",
          "height": 1000,
          "referenced_widgets": [
            "2f486ce70b7a48edb1ccc6a9b1da29d3",
            "d73087b3f8ad47d7915cbcd86caa434a",
            "89d3a23e1d564cfd92db9462b6c07fb5",
            "76efa55f51424f8aa83799bc6238bc4e",
            "d1084c15ad5f4238b66b3ecbab5d2f2f",
            "f0f14c7245e14292b43334405e517a75",
            "6d83cb06bf504da7b2d19373ecd26936",
            "f7f293a0519d4eb0a77c0e0a10772f41"
          ]
        }
      },
      "source": [
        "from pytorchtools import EarlyStopping\n",
        "from Training import Trainer\n",
        "exp_path=\"/content/run/ResNet_capada\"\n",
        "early_stopping=EarlyStopping(patience=1500)\n",
        "opt_parameters={\n",
        "    \"lr\":0.01,\n",
        "    #optionals...\n",
        "    \"weight_decay\":0.00001             \n",
        "}\n",
        "      \n",
        "n_epochs=100\n",
        "metrics_dict={ \"Accuracy\":balanced_accuracy_score,\n",
        "              \"f1\":[f1_score,{\"average\":'weighted'}],\n",
        "              \"Mcc\":matthews_corrcoef\n",
        "              }\n",
        "\n",
        "trainer=Trainer(model,criterion,opt_parameters,data_loaders,prepare_batch_tsresnet)\n",
        "_=trainer.train(n_epochs,exp_path,metrics_dict,early_stopping)\n"
      ],
      "execution_count": 0,
      "outputs": [
        {
          "output_type": "display_data",
          "data": {
            "application/vnd.jupyter.widget-view+json": {
              "model_id": "2f486ce70b7a48edb1ccc6a9b1da29d3",
              "version_minor": 0,
              "version_major": 2
            },
            "text/plain": [
              "HBox(children=(IntProgress(value=0), HTML(value='')))"
            ]
          },
          "metadata": {
            "tags": []
          }
        },
        {
          "output_type": "stream",
          "text": [
            "/usr/local/lib/python3.6/dist-packages/sklearn/metrics/_classification.py:1859: UserWarning: y_pred contains classes not in y_true\n",
            "  warnings.warn('y_pred contains classes not in y_true')\n",
            "/usr/local/lib/python3.6/dist-packages/sklearn/metrics/_classification.py:900: RuntimeWarning: invalid value encountered in double_scalars\n",
            "  mcc = cov_ytyp / np.sqrt(cov_ytyt * cov_ypyp)\n"
          ],
          "name": "stderr"
        },
        {
          "output_type": "stream",
          "text": [
            "Train resultsloss = 1.5519841146469116 ,Accuracy = 0.42272191915684104 ,f1 = 0.6546068074764516 ,Mcc = 0.045123997402294995 \n",
            "Test resultsloss = 29.616650122914994 ,Accuracy = 0.49439427393498564 ,f1 = 0.7270330293470054 ,Mcc = 0.05166894847714099 \n",
            "----------\n",
            "Train resultsloss = 1.4050964736938476 ,Accuracy = 0.48599068301496184 ,f1 = 0.669913060211908 ,Mcc = 0.11427336724509826 \n",
            "Test resultsloss = 1.6299302755083358 ,Accuracy = 0.5532489017521316 ,f1 = 0.7735576184550425 ,Mcc = 0.08876140754838772 \n",
            "----------\n",
            "Train resultsloss = 1.3485627126693727 ,Accuracy = 0.510379736883188 ,f1 = 0.6650782738529414 ,Mcc = 0.16111411202062034 \n",
            "Test resultsloss = 1.5992384685788839 ,Accuracy = 0.5588801016072203 ,f1 = 0.7525412308998584 ,Mcc = 0.12977023943352797 \n",
            "----------\n",
            "Train resultsloss = 1.3444127821922303 ,Accuracy = 0.5285653821063631 ,f1 = 0.6695605787064306 ,Mcc = 0.164426410925421 \n",
            "Test resultsloss = 1.5940770673751827 ,Accuracy = 0.5948101941632893 ,f1 = 0.7654307584669402 ,Mcc = 0.13741154775171072 \n",
            "----------\n",
            "Train resultsloss = 1.307261927127838 ,Accuracy = 0.5443160673645244 ,f1 = 0.6686971929281935 ,Mcc = 0.18267048177936332 \n",
            "Test resultsloss = 1.5663464311191013 ,Accuracy = 0.5626339097858675 ,f1 = 0.7568182233696493 ,Mcc = 0.16238964171271253 \n",
            "----------\n",
            "Train resultsloss = 1.3016325235366821 ,Accuracy = 0.5592285904180764 ,f1 = 0.6707164182052624 ,Mcc = 0.18695787069865655 \n",
            "Test resultsloss = 1.5559656383310045 ,Accuracy = 0.6000600367310797 ,f1 = 0.7700910004825723 ,Mcc = 0.14956453399354916 \n",
            "----------\n",
            "Train resultsloss = 1.2796768355369568 ,Accuracy = 0.5313296565241483 ,f1 = 0.6716892220367686 ,Mcc = 0.19025289555990202 \n",
            "Test resultsloss = 1.563639504909516 ,Accuracy = 0.5877621091107339 ,f1 = 0.7716834726345622 ,Mcc = 0.1518590886501849 \n",
            "----------\n",
            "EarlyStopping counter: 1 out of 1500\n",
            "Train resultsloss = 1.280846221446991 ,Accuracy = 0.5466495007563676 ,f1 = 0.6726018906929246 ,Mcc = 0.2166065477170935 \n",
            "Test resultsloss = 1.5506483459472662 ,Accuracy = 0.5624898072211557 ,f1 = 0.7514864633927132 ,Mcc = 0.16123588954879398 \n",
            "----------\n",
            "Train resultsloss = 1.2541226148605347 ,Accuracy = 0.5404210012107952 ,f1 = 0.6719011969418318 ,Mcc = 0.22730699339330587 \n",
            "Test resultsloss = 1.5473137933867311 ,Accuracy = 0.5671099509530013 ,f1 = 0.7378554857737738 ,Mcc = 0.17522082657692678 \n",
            "----------\n",
            "Train resultsloss = 1.2561159539222717 ,Accuracy = 0.5281753364677143 ,f1 = 0.6687020926070053 ,Mcc = 0.23323746775356088 \n",
            "Test resultsloss = 1.5627034248624534 ,Accuracy = 0.5202086308945849 ,f1 = 0.7392808187233668 ,Mcc = 0.17859744616634488 \n",
            "----------\n",
            "EarlyStopping counter: 1 out of 1500\n",
            "Train resultsloss = 1.2451677346229553 ,Accuracy = 0.5933821524722823 ,f1 = 0.6710257851374177 ,Mcc = 0.24525669507614103 \n",
            "Test resultsloss = 1.5406685147966659 ,Accuracy = 0.5794128821692783 ,f1 = 0.733359262950032 ,Mcc = 0.1760300200022928 \n",
            "----------\n",
            "Train resultsloss = 1.2321528315544128 ,Accuracy = 0.5617672045318888 ,f1 = 0.6683769731416183 ,Mcc = 0.23771810946070016 \n",
            "Test resultsloss = 1.538469233853477 ,Accuracy = 0.5586399183135218 ,f1 = 0.7449319274915968 ,Mcc = 0.18101586202181952 \n",
            "----------\n",
            "Train resultsloss = 1.2097731471061706 ,Accuracy = 0.5665995312541527 ,f1 = 0.6726015644899691 ,Mcc = 0.2516607471475223 \n",
            "Test resultsloss = 1.5425435526030404 ,Accuracy = 0.529182405080386 ,f1 = 0.736107969999393 ,Mcc = 0.18111486621512773 \n",
            "----------\n",
            "EarlyStopping counter: 1 out of 1500\n",
            "Train resultsloss = 1.1959316074848174 ,Accuracy = 0.5689387771662894 ,f1 = 0.6667765583136142 ,Mcc = 0.2647231132844194 \n",
            "Test resultsloss = 1.5241758881296434 ,Accuracy = 0.549810907023797 ,f1 = 0.7347643439245427 ,Mcc = 0.18789468467021994 \n",
            "----------\n",
            "Train resultsloss = 1.2043705558776856 ,Accuracy = 0.5665432938647981 ,f1 = 0.681362237730912 ,Mcc = 0.2700784110964326 \n",
            "Test resultsloss = 1.5293075152805873 ,Accuracy = 0.544128533390801 ,f1 = 0.7402717701761372 ,Mcc = 0.1931124358040093 \n",
            "----------\n",
            "EarlyStopping counter: 1 out of 1500\n",
            "Train resultsloss = 1.2150946903228759 ,Accuracy = 0.5772180668221141 ,f1 = 0.6703184407294434 ,Mcc = 0.2641332424252105 \n",
            "Test resultsloss = 1.5182445921216692 ,Accuracy = 0.5875291371824055 ,f1 = 0.7529635114762135 ,Mcc = 0.21041294649834724 \n",
            "----------\n",
            "Train resultsloss = 1.1780185747146605 ,Accuracy = 0.593091775796194 ,f1 = 0.6795231187075668 ,Mcc = 0.28686994964744117 \n",
            "Test resultsloss = 1.53326128414699 ,Accuracy = 0.5318407244110948 ,f1 = 0.7322714244965965 ,Mcc = 0.21284962530476237 \n",
            "----------\n",
            "EarlyStopping counter: 1 out of 1500\n",
            "Train resultsloss = 1.184249083995819 ,Accuracy = 0.5749923343050027 ,f1 = 0.668625882906465 ,Mcc = 0.2866726781736339 \n",
            "Test resultsloss = 1.5316353396006994 ,Accuracy = 0.5681477234064612 ,f1 = 0.7286014738818487 ,Mcc = 0.2206355657445599 \n",
            "----------\n",
            "EarlyStopping counter: 2 out of 1500\n",
            "Train resultsloss = 1.164127173423767 ,Accuracy = 0.604913226637377 ,f1 = 0.6718895265968523 ,Mcc = 0.2902990279272562 \n",
            "Test resultsloss = 1.5454236865043642 ,Accuracy = 0.5222072630414266 ,f1 = 0.7243975790146401 ,Mcc = 0.2087237018136573 \n",
            "----------\n",
            "EarlyStopping counter: 3 out of 1500\n",
            "Train resultsloss = 1.1428594648838044 ,Accuracy = 0.572524529389306 ,f1 = 0.6755170692800871 ,Mcc = 0.3056032702024449 \n",
            "Test resultsloss = 1.5521136110169547 ,Accuracy = 0.5219162922871334 ,f1 = 0.7210209598548906 ,Mcc = 0.220642137782569 \n",
            "----------\n",
            "EarlyStopping counter: 4 out of 1500\n",
            "Train resultsloss = 1.125905042886734 ,Accuracy = 0.5677549890575585 ,f1 = 0.6782608484473467 ,Mcc = 0.31696841027140804 \n",
            "Test resultsloss = 1.5419116210937498 ,Accuracy = 0.51276151028735 ,f1 = 0.7197940549307286 ,Mcc = 0.20853401070714117 \n",
            "----------\n",
            "EarlyStopping counter: 5 out of 1500\n",
            "Train resultsloss = 1.1369547867774963 ,Accuracy = 0.5904532828314195 ,f1 = 0.6767560438168206 ,Mcc = 0.307736721084312 \n",
            "Test resultsloss = 1.5451037158284864 ,Accuracy = 0.5243332858585094 ,f1 = 0.7299230670707231 ,Mcc = 0.2147800050761715 \n",
            "----------\n",
            "EarlyStopping counter: 6 out of 1500\n",
            "Train resultsloss = 1.1258490478992462 ,Accuracy = 0.5843489609431104 ,f1 = 0.6793518094599124 ,Mcc = 0.31772461967462495 \n",
            "Test resultsloss = 1.5288904816763742 ,Accuracy = 0.5557792212453081 ,f1 = 0.7341835231623282 ,Mcc = 0.23977550570603562 \n",
            "----------\n",
            "EarlyStopping counter: 7 out of 1500\n",
            "Train resultsloss = 1.0962073349952697 ,Accuracy = 0.5978253176313946 ,f1 = 0.6802676649118422 ,Mcc = 0.3423957298442908 \n",
            "Test resultsloss = 1.5349183130264288 ,Accuracy = 0.5508956688544052 ,f1 = 0.7375426057862061 ,Mcc = 0.240450831666023 \n",
            "----------\n",
            "EarlyStopping counter: 8 out of 1500\n",
            "Train resultsloss = 1.0898597300052644 ,Accuracy = 0.5980326199373831 ,f1 = 0.6796662632469844 ,Mcc = 0.3420530828652078 \n",
            "Test resultsloss = 1.5579313898086549 ,Accuracy = 0.5043664522326976 ,f1 = 0.7105723158408227 ,Mcc = 0.23846410177979852 \n",
            "----------\n",
            "EarlyStopping counter: 9 out of 1500\n",
            "Train resultsloss = 1.0837085783481597 ,Accuracy = 0.6052516358708057 ,f1 = 0.674366544642988 ,Mcc = 0.3353555953807455 \n",
            "Test resultsloss = 1.5615094132082805 ,Accuracy = 0.5180916942312037 ,f1 = 0.6979934725603065 ,Mcc = 0.2509874009313886 \n",
            "----------\n",
            "EarlyStopping counter: 10 out of 1500\n",
            "Train resultsloss = 1.0610624277591705 ,Accuracy = 0.5963568188151013 ,f1 = 0.6862936013553668 ,Mcc = 0.356840222943288 \n",
            "Test resultsloss = 1.5644764058930531 ,Accuracy = 0.4975563751470067 ,f1 = 0.7272118515413539 ,Mcc = 0.2549942212612206 \n",
            "----------\n",
            "EarlyStopping counter: 11 out of 1500\n",
            "Train resultsloss = 0.9724445033073426 ,Accuracy = 0.704553222508838 ,f1 = 0.7172930299121795 ,Mcc = 0.41855518142224357 \n",
            "Test resultsloss = 1.5130563131400512 ,Accuracy = 0.5330406691424318 ,f1 = 0.7397153825437843 ,Mcc = 0.28393455597560446 \n",
            "----------\n",
            "Train resultsloss = 0.9265622556209564 ,Accuracy = 0.6491751170800519 ,f1 = 0.7193514250517515 ,Mcc = 0.4423167435147482 \n",
            "Test resultsloss = 1.49510337982859 ,Accuracy = 0.5395862009202754 ,f1 = 0.7412488734030628 ,Mcc = 0.2986267562621579 \n",
            "----------\n",
            "Train resultsloss = 0.8999768686294556 ,Accuracy = 0.6950216736883345 ,f1 = 0.723987767294654 ,Mcc = 0.46650147499842753 \n",
            "Test resultsloss = 1.5483405263083319 ,Accuracy = 0.46813629889879144 ,f1 = 0.7051662447171699 ,Mcc = 0.265686564622269 \n",
            "----------\n",
            "EarlyStopping counter: 1 out of 1500\n",
            "Train resultsloss = 0.8762474691867829 ,Accuracy = 0.6767481763678691 ,f1 = 0.7262305106963132 ,Mcc = 0.4834422874461674 \n",
            "Test resultsloss = 1.5091748252936779 ,Accuracy = 0.4924465742165014 ,f1 = 0.7219908800821709 ,Mcc = 0.29028220922244846 \n",
            "----------\n",
            "EarlyStopping counter: 2 out of 1500\n",
            "Train resultsloss = 0.8622294580936432 ,Accuracy = 0.6773882850101373 ,f1 = 0.7336754484668259 ,Mcc = 0.4920720774712307 \n",
            "Test resultsloss = 1.552198325906481 ,Accuracy = 0.4561006740564553 ,f1 = 0.7020052909473101 ,Mcc = 0.27599153173982727 \n",
            "----------\n",
            "EarlyStopping counter: 3 out of 1500\n",
            "Train resultsloss = 0.83854727268219 ,Accuracy = 0.7123544408146998 ,f1 = 0.7422130784817947 ,Mcc = 0.5072073966718113 \n",
            "Test resultsloss = 1.5118802980014254 ,Accuracy = 0.5032339550654511 ,f1 = 0.7267450443159046 ,Mcc = 0.30210268476624863 \n",
            "----------\n",
            "EarlyStopping counter: 4 out of 1500\n",
            "Train resultsloss = 0.8210703444480896 ,Accuracy = 0.6939120514897147 ,f1 = 0.7433891286092673 ,Mcc = 0.5148342915545859 \n",
            "Test resultsloss = 1.5702245606694902 ,Accuracy = 0.44264690754604047 ,f1 = 0.7043077257357733 ,Mcc = 0.2717953428474961 \n",
            "----------\n",
            "EarlyStopping counter: 5 out of 1500\n",
            "Train resultsloss = 0.8313688397407532 ,Accuracy = 0.6926514741343097 ,f1 = 0.7313585834547186 ,Mcc = 0.5066712097496929 \n",
            "Test resultsloss = 1.5513317331245973 ,Accuracy = 0.44919172077417585 ,f1 = 0.7026289262117537 ,Mcc = 0.2952475992854766 \n",
            "----------\n",
            "EarlyStopping counter: 6 out of 1500\n",
            "Train resultsloss = 0.7908352315425873 ,Accuracy = 0.7280468855796741 ,f1 = 0.74957720072875 ,Mcc = 0.5404910492238963 \n",
            "Test resultsloss = 1.5602538980756484 ,Accuracy = 0.445412195749845 ,f1 = 0.704220274097974 ,Mcc = 0.29213206779023504 \n",
            "----------\n",
            "EarlyStopping counter: 7 out of 1500\n",
            "Train resultsloss = 0.761612116098404 ,Accuracy = 0.7206449558246126 ,f1 = 0.7573240948809331 ,Mcc = 0.5563328596961475 \n",
            "Test resultsloss = 1.579954685824258 ,Accuracy = 0.4536816765689313 ,f1 = 0.7065765948531088 ,Mcc = 0.296062282668828 \n",
            "----------\n",
            "EarlyStopping counter: 8 out of 1500\n",
            "Train resultsloss = 0.7529108393192291 ,Accuracy = 0.7154449577542411 ,f1 = 0.7571266106333538 ,Mcc = 0.5617362657237432 \n",
            "Test resultsloss = 1.569920228719711 ,Accuracy = 0.478462421377841 ,f1 = 0.7089122741830138 ,Mcc = 0.30803605008395124 \n",
            "----------\n",
            "EarlyStopping counter: 9 out of 1500\n",
            "Train resultsloss = 0.7384900432825089 ,Accuracy = 0.7422050835933968 ,f1 = 0.7630780942898545 ,Mcc = 0.5781398720506226 \n",
            "Test resultsloss = 1.6113229523386279 ,Accuracy = 0.4422562846905883 ,f1 = 0.6927614241876882 ,Mcc = 0.29304570617724207 \n",
            "----------\n",
            "EarlyStopping counter: 10 out of 1500\n",
            "Train resultsloss = 0.7068577587604523 ,Accuracy = 0.713638816807469 ,f1 = 0.7616409349462667 ,Mcc = 0.5759534167152808 \n",
            "Test resultsloss = 1.5713898340293344 ,Accuracy = 0.4698940398152158 ,f1 = 0.7120655488936589 ,Mcc = 0.31441221349076115 \n",
            "----------\n",
            "EarlyStopping counter: 11 out of 1500\n",
            "Train resultsloss = 0.6550305515527726 ,Accuracy = 0.7852663646731266 ,f1 = 0.7918193898005288 ,Mcc = 0.6259540063680535 \n",
            "Test resultsloss = 1.5870079951626914 ,Accuracy = 0.4591821418825526 ,f1 = 0.7075462163598357 ,Mcc = 0.3209930235021157 \n",
            "----------\n",
            "EarlyStopping counter: 12 out of 1500\n",
            "Train resultsloss = 0.6406947505474091 ,Accuracy = 0.794861677178051 ,f1 = 0.7936354862739143 ,Mcc = 0.6377063939540126 \n",
            "Test resultsloss = 1.5502338085855751 ,Accuracy = 0.5076047911423605 ,f1 = 0.7212331625175835 ,Mcc = 0.3436989278888074 \n",
            "----------\n",
            "EarlyStopping counter: 13 out of 1500\n",
            "Train resultsloss = 0.6490806567668915 ,Accuracy = 0.7849884981385783 ,f1 = 0.7904427362754594 ,Mcc = 0.6312329829873101 \n",
            "Test resultsloss = 1.596104945284979 ,Accuracy = 0.4451792133104213 ,f1 = 0.7037124170148055 ,Mcc = 0.3213172346242416 \n",
            "----------\n",
            "EarlyStopping counter: 14 out of 1500\n",
            "Train resultsloss = 0.6340789204835892 ,Accuracy = 0.8000217104139771 ,f1 = 0.7969062399950516 ,Mcc = 0.6448522070313671 \n",
            "Test resultsloss = 1.5738917594296593 ,Accuracy = 0.4779021011156203 ,f1 = 0.7159977860280903 ,Mcc = 0.33602632153855727 \n",
            "----------\n",
            "EarlyStopping counter: 15 out of 1500\n",
            "Train resultsloss = 0.6480533665418625 ,Accuracy = 0.7984944554403447 ,f1 = 0.7901519091869578 ,Mcc = 0.6349161627783385 \n",
            "Test resultsloss = 1.6072770663670133 ,Accuracy = 0.4526424150133759 ,f1 = 0.7054836197150223 ,Mcc = 0.3217703224649439 \n",
            "----------\n",
            "EarlyStopping counter: 16 out of 1500\n",
            "Train resultsloss = 0.6210401278734207 ,Accuracy = 0.7743909352989004 ,f1 = 0.7993245226450427 ,Mcc = 0.6460644234572507 \n",
            "Test resultsloss = 1.5784417394229344 ,Accuracy = 0.4979482581276304 ,f1 = 0.7196691496436738 ,Mcc = 0.33305328778908505 \n",
            "----------\n",
            "EarlyStopping counter: 17 out of 1500\n",
            "Train resultsloss = 0.6210065031051636 ,Accuracy = 0.7963128048507747 ,f1 = 0.7986614134735412 ,Mcc = 0.6474347939367293 \n",
            "Test resultsloss = 1.6198737743922649 ,Accuracy = 0.459508739986602 ,f1 = 0.7033384350341397 ,Mcc = 0.32502080134254513 \n",
            "----------\n",
            "EarlyStopping counter: 18 out of 1500\n",
            "Train resultsloss = 0.6247899258136749 ,Accuracy = 0.7907542944128827 ,f1 = 0.792999028185193 ,Mcc = 0.6384123547887197 \n",
            "Test resultsloss = 1.5834136438369755 ,Accuracy = 0.5100712152293948 ,f1 = 0.7195895325154237 ,Mcc = 0.33934856496340926 \n",
            "----------\n",
            "EarlyStopping counter: 19 out of 1500\n",
            "Train resultsloss = 0.6151365071535111 ,Accuracy = 0.7980866572882231 ,f1 = 0.7970341437470249 ,Mcc = 0.6504802646489221 \n",
            "Test resultsloss = 1.59536520242691 ,Accuracy = 0.4963249727140133 ,f1 = 0.7114064315764876 ,Mcc = 0.33748515651218997 \n",
            "----------\n",
            "EarlyStopping counter: 20 out of 1500\n",
            "Train resultsloss = 0.6029706048965454 ,Accuracy = 0.817673495904529 ,f1 = 0.8054046090814055 ,Mcc = 0.6592935547762803 \n",
            "Test resultsloss = 1.5751877968651902 ,Accuracy = 0.5240085542040354 ,f1 = 0.721443879365271 ,Mcc = 0.340926056952316 \n",
            "----------\n",
            "EarlyStopping counter: 21 out of 1500\n",
            "Train resultsloss = 0.5954897820949554 ,Accuracy = 0.7980836341945334 ,f1 = 0.8078822203379187 ,Mcc = 0.6655760956388957 \n",
            "Test resultsloss = 1.6148444993155346 ,Accuracy = 0.494758864014037 ,f1 = 0.709815256687091 ,Mcc = 0.3333039659339505 \n",
            "----------\n",
            "EarlyStopping counter: 22 out of 1500\n",
            "Train resultsloss = 0.6121891039609909 ,Accuracy = 0.7792542519694377 ,f1 = 0.8014699970355434 ,Mcc = 0.6553467071871957 \n",
            "Test resultsloss = 1.6389770397118157 ,Accuracy = 0.46014309773852785 ,f1 = 0.7020062632225471 ,Mcc = 0.32365100737520225 \n",
            "----------\n",
            "EarlyStopping counter: 23 out of 1500\n",
            "Train resultsloss = 0.5954770416021347 ,Accuracy = 0.8031011783130725 ,f1 = 0.8113273361255385 ,Mcc = 0.6680044428424887 \n",
            "Test resultsloss = 1.5810624265670776 ,Accuracy = 0.5121718360611657 ,f1 = 0.7169208247030767 ,Mcc = 0.338849758585701 \n",
            "----------\n",
            "EarlyStopping counter: 24 out of 1500\n",
            "Train resultsloss = 0.5847044616937638 ,Accuracy = 0.8205750674431469 ,f1 = 0.8085374555503941 ,Mcc = 0.6649645213144701 \n",
            "Test resultsloss = 1.6307202271052768 ,Accuracy = 0.49065614610661656 ,f1 = 0.7078382114380173 ,Mcc = 0.3278926951470546 \n",
            "----------\n",
            "EarlyStopping counter: 25 out of 1500\n",
            "Train resultsloss = 0.5854618608951568 ,Accuracy = 0.8010370303652116 ,f1 = 0.8089783490541547 ,Mcc = 0.6690963396368476 \n",
            "Test resultsloss = 1.5871290990284512 ,Accuracy = 0.5223852974693007 ,f1 = 0.7231731893318332 ,Mcc = 0.3432211791540604 \n",
            "----------\n",
            "EarlyStopping counter: 26 out of 1500\n",
            "Train resultsloss = 0.5929769909381867 ,Accuracy = 0.8197706333643602 ,f1 = 0.8116416252816575 ,Mcc = 0.6723623422210305 \n",
            "Test resultsloss = 1.6167213281563355 ,Accuracy = 0.4905218626379113 ,f1 = 0.7089745862140739 ,Mcc = 0.3274538698058241 \n",
            "----------\n",
            "EarlyStopping counter: 27 out of 1500\n",
            "Train resultsloss = 0.6029371160268784 ,Accuracy = 0.7950831722463974 ,f1 = 0.7986933082188595 ,Mcc = 0.6551634937829826 \n",
            "Test resultsloss = 1.635734489985875 ,Accuracy = 0.47759783103106346 ,f1 = 0.7068990134523504 ,Mcc = 0.3209868397402835 \n",
            "----------\n",
            "EarlyStopping counter: 28 out of 1500\n",
            "Train resultsloss = 0.6011711043119431 ,Accuracy = 0.7987707990942932 ,f1 = 0.8043469021581966 ,Mcc = 0.6602692624228284 \n",
            "Test resultsloss = 1.5861015108653476 ,Accuracy = 0.5086441322504683 ,f1 = 0.7107064369641201 ,Mcc = 0.3417448888280484 \n",
            "----------\n",
            "EarlyStopping counter: 29 out of 1500\n",
            "Train resultsloss = 0.5934833383560181 ,Accuracy = 0.8342238244752691 ,f1 = 0.8139366725122429 ,Mcc = 0.6744582071582849 \n",
            "Test resultsloss = 1.6242732703685763 ,Accuracy = 0.4919527396608596 ,f1 = 0.7137576537616488 ,Mcc = 0.32438807085380816 \n",
            "----------\n",
            "EarlyStopping counter: 30 out of 1500\n",
            "Train resultsloss = 0.5837265056371689 ,Accuracy = 0.8032675457709977 ,f1 = 0.8093752971903069 ,Mcc = 0.669827560694085 \n",
            "Test resultsloss = 1.5801003968715661 ,Accuracy = 0.522887499710729 ,f1 = 0.7189035758739846 ,Mcc = 0.34870766823438876 \n",
            "----------\n",
            "EarlyStopping counter: 31 out of 1500\n"
          ],
          "name": "stdout"
        },
        {
          "output_type": "stream",
          "text": [
            "ERROR:root:Internal Python error in the inspect module.\n",
            "Below is the traceback from this internal error.\n",
            "\n"
          ],
          "name": "stderr"
        },
        {
          "output_type": "stream",
          "text": [
            "Traceback (most recent call last):\n",
            "  File \"/usr/local/lib/python3.6/dist-packages/IPython/core/interactiveshell.py\", line 2882, in run_code\n",
            "    exec(code_obj, self.user_global_ns, self.user_ns)\n",
            "  File \"<ipython-input-8-8c911cc07d38>\", line 18, in <module>\n",
            "    _=trainer.train(n_epochs,exp_path,metrics_dict,early_stopping)\n",
            "  File \"/content/Training.py\", line 138, in train\n",
            "    metrics_dict)\n",
            "  File \"/content/Training.py\", line 88, in evaluate_set\n",
            "    self._get_metrics(labels_pred,labels,actual_metrics,metrics_dict)\n",
            "  File \"/content/Training.py\", line 70, in _get_metrics\n",
            "    labels_pred,labels=self._prob_to_predictions(preds,labels)\n",
            "  File \"/content/Training.py\", line 59, in _prob_to_predictions\n",
            "    probabilities=F.softmax(preds,dim=1)\n",
            "  File \"/usr/local/lib/python3.6/dist-packages/torch/nn/functional.py\", line 1231, in softmax\n",
            "    ret = input.softmax(dim)\n",
            "KeyboardInterrupt\n",
            "\n",
            "During handling of the above exception, another exception occurred:\n",
            "\n",
            "Traceback (most recent call last):\n",
            "  File \"/usr/local/lib/python3.6/dist-packages/IPython/core/interactiveshell.py\", line 1823, in showtraceback\n",
            "    stb = value._render_traceback_()\n",
            "AttributeError: 'KeyboardInterrupt' object has no attribute '_render_traceback_'\n",
            "\n",
            "During handling of the above exception, another exception occurred:\n",
            "\n",
            "Traceback (most recent call last):\n",
            "  File \"/usr/local/lib/python3.6/dist-packages/IPython/core/ultratb.py\", line 1132, in get_records\n",
            "    return _fixed_getinnerframes(etb, number_of_lines_of_context, tb_offset)\n",
            "  File \"/usr/local/lib/python3.6/dist-packages/IPython/core/ultratb.py\", line 313, in wrapped\n",
            "    return f(*args, **kwargs)\n",
            "  File \"/usr/local/lib/python3.6/dist-packages/IPython/core/ultratb.py\", line 358, in _fixed_getinnerframes\n",
            "    records = fix_frame_records_filenames(inspect.getinnerframes(etb, context))\n",
            "  File \"/usr/lib/python3.6/inspect.py\", line 1490, in getinnerframes\n",
            "    frameinfo = (tb.tb_frame,) + getframeinfo(tb, context)\n",
            "  File \"/usr/lib/python3.6/inspect.py\", line 1452, in getframeinfo\n",
            "    lines, lnum = findsource(frame)\n",
            "  File \"/usr/local/lib/python3.6/dist-packages/IPython/core/ultratb.py\", line 170, in findsource\n",
            "    file = getsourcefile(object) or getfile(object)\n",
            "  File \"/usr/lib/python3.6/inspect.py\", line 696, in getsourcefile\n",
            "    if getattr(getmodule(object, filename), '__loader__', None) is not None:\n",
            "  File \"/usr/lib/python3.6/inspect.py\", line 732, in getmodule\n",
            "    for modname, module in list(sys.modules.items()):\n",
            "KeyboardInterrupt\n"
          ],
          "name": "stdout"
        },
        {
          "output_type": "error",
          "ename": "KeyboardInterrupt",
          "evalue": "ignored",
          "traceback": [
            "\u001b[0;31m---------------------------------------------------------------------------\u001b[0m"
          ]
        }
      ]
    },
    {
      "cell_type": "markdown",
      "metadata": {
        "id": "AmXLIjYHEVxF",
        "colab_type": "text"
      },
      "source": [
        "# Load trained model"
      ]
    },
    {
      "cell_type": "code",
      "metadata": {
        "id": "gNEMinyUJ65s",
        "colab_type": "code",
        "colab": {}
      },
      "source": [
        "checkpoint_path=os.path.join(exp_path,\"checkpoint.pth\")\n",
        "model = tsresnet_shallow(**{\"num_classes\":num_classes})\n",
        "\n",
        "model.load_state_dict(torch.load(checkpoint_path))\n",
        "model=model.to(device)\n"
      ],
      "execution_count": 0,
      "outputs": []
    },
    {
      "cell_type": "markdown",
      "metadata": {
        "id": "szk5BudQe3QM",
        "colab_type": "text"
      },
      "source": [
        "# Evaluate trained model"
      ]
    },
    {
      "cell_type": "code",
      "metadata": {
        "id": "FO9qkyZZchbX",
        "colab_type": "code",
        "colab": {}
      },
      "source": [
        "from Evaluation import Evaluator\n",
        "evaluator_val=Evaluator(model,criterion,validation_dataset,val_loader,prepare_batch_tsresnet) #val set\n",
        "evaluator_train=Evaluator(model,criterion,train_dataset,train_loader,prepare_batch_tsresnet) #val set\n"
      ],
      "execution_count": 0,
      "outputs": []
    },
    {
      "cell_type": "code",
      "metadata": {
        "id": "32gzNSV4c8Xo",
        "colab_type": "code",
        "outputId": "f7a26084-ad61-48bd-bece-ffa30a36e622",
        "colab": {
          "base_uri": "https://localhost:8080/",
          "height": 314
        }
      },
      "source": [
        "evaluator_train.plt_conf_matrix(normalize=True)"
      ],
      "execution_count": 0,
      "outputs": [
        {
          "output_type": "stream",
          "text": [
            "Normalized confusion matrix\n"
          ],
          "name": "stdout"
        },
        {
          "output_type": "display_data",
          "data": {
            "image/png": "[encoded data removed]",
            "text/plain": [
              "<Figure size 432x288 with 2 Axes>"
            ]
          },
          "metadata": {
            "tags": [],
            "needs_background": "light"
          }
        }
      ]
    },
    {
      "cell_type": "code",
      "metadata": {
        "id": "6BWNamrFkTvD",
        "colab_type": "code",
        "outputId": "130db414-40d1-48d0-fd2f-664320e0e8f5",
        "colab": {
          "base_uri": "https://localhost:8080/",
          "height": 314
        }
      },
      "source": [
        "evaluator_val.plt_conf_matrix(normalize=True)"
      ],
      "execution_count": 0,
      "outputs": [
        {
          "output_type": "stream",
          "text": [
            "Normalized confusion matrix\n"
          ],
          "name": "stdout"
        },
        {
          "output_type": "display_data",
          "data": {
            "image/png": "[encoded data removed]",
            "text/plain": [
              "<Figure size 432x288 with 2 Axes>"
            ]
          },
          "metadata": {
            "tags": [],
            "needs_background": "light"
          }
        }
      ]
    },
    {
      "cell_type": "markdown",
      "metadata": {
        "id": "kWVplv8OqBxd",
        "colab_type": "text"
      },
      "source": [
        "# Tensorboard"
      ]
    },
    {
      "cell_type": "code",
      "metadata": {
        "id": "1K9BORh54tXt",
        "colab_type": "code",
        "colab": {}
      },
      "source": [
        "%tensorboard --logdir=run"
      ],
      "execution_count": 0,
      "outputs": []
    },
    {
      "cell_type": "code",
      "metadata": {
        "id": "5nf89zIs89yL",
        "colab_type": "code",
        "colab": {}
      },
      "source": [
        "!rm -r /content/run/dp_0.5_hs_30_v2/*\n"
      ],
      "execution_count": 0,
      "outputs": []
    },
    {
      "cell_type": "code",
      "metadata": {
        "id": "YXeZMKjgPr1m",
        "colab_type": "code",
        "colab": {}
      },
      "source": [
        "!zip -r runs_ResNet_first.zip run\n"
      ],
      "execution_count": 0,
      "outputs": []
    }
  ]
}